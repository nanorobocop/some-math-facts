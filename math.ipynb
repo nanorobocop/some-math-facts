{
 "cells": [
  {
   "cell_type": "code",
   "execution_count": 1,
   "id": "color-handling",
   "metadata": {},
   "outputs": [],
   "source": [
    "import numpy as np\n",
    "import pandas as pd"
   ]
  },
  {
   "cell_type": "markdown",
   "id": "endless-cream",
   "metadata": {},
   "source": [
    "# Fermat's Little Theorem"
   ]
  },
  {
   "cell_type": "markdown",
   "id": "impossible-procurement",
   "metadata": {},
   "source": [
    "## Main statement"
   ]
  },
  {
   "cell_type": "markdown",
   "id": "public-trout",
   "metadata": {},
   "source": [
    "If p is prime => for any integer a: a^p = a mod p."
   ]
  },
  {
   "cell_type": "code",
   "execution_count": 2,
   "id": "nominated-venture",
   "metadata": {},
   "outputs": [],
   "source": [
    "a = np.arange(1,50)\n",
    "p = 11\n",
    "flt_df = pd.DataFrame(a, columns=[\"a\"])"
   ]
  },
  {
   "cell_type": "code",
   "execution_count": 3,
   "id": "remarkable-transsexual",
   "metadata": {},
   "outputs": [],
   "source": [
    "flt_df[\"mod\"] = flt_df[\"a\"] % p\n",
    "flt_df[\"pow\"] = pow(flt_df[\"a\"], p)\n",
    "flt_df[\"pow_mod\"] = flt_df[\"pow\"] % p"
   ]
  },
  {
   "cell_type": "code",
   "execution_count": 4,
   "id": "median-exhaust",
   "metadata": {
    "tags": []
   },
   "outputs": [
    {
     "data": {
      "text/html": [
       "<div>\n",
       "<style scoped>\n",
       "    .dataframe tbody tr th:only-of-type {\n",
       "        vertical-align: middle;\n",
       "    }\n",
       "\n",
       "    .dataframe tbody tr th {\n",
       "        vertical-align: top;\n",
       "    }\n",
       "\n",
       "    .dataframe thead th {\n",
       "        text-align: right;\n",
       "    }\n",
       "</style>\n",
       "<table border=\"1\" class=\"dataframe\">\n",
       "  <thead>\n",
       "    <tr style=\"text-align: right;\">\n",
       "      <th></th>\n",
       "      <th>0</th>\n",
       "      <th>1</th>\n",
       "      <th>2</th>\n",
       "      <th>3</th>\n",
       "      <th>4</th>\n",
       "      <th>5</th>\n",
       "      <th>6</th>\n",
       "      <th>7</th>\n",
       "      <th>8</th>\n",
       "      <th>9</th>\n",
       "      <th>...</th>\n",
       "      <th>39</th>\n",
       "      <th>40</th>\n",
       "      <th>41</th>\n",
       "      <th>42</th>\n",
       "      <th>43</th>\n",
       "      <th>44</th>\n",
       "      <th>45</th>\n",
       "      <th>46</th>\n",
       "      <th>47</th>\n",
       "      <th>48</th>\n",
       "    </tr>\n",
       "  </thead>\n",
       "  <tbody>\n",
       "    <tr>\n",
       "      <th>a</th>\n",
       "      <td>1</td>\n",
       "      <td>2</td>\n",
       "      <td>3</td>\n",
       "      <td>4</td>\n",
       "      <td>5</td>\n",
       "      <td>6</td>\n",
       "      <td>7</td>\n",
       "      <td>8</td>\n",
       "      <td>9</td>\n",
       "      <td>10</td>\n",
       "      <td>...</td>\n",
       "      <td>40</td>\n",
       "      <td>41</td>\n",
       "      <td>42</td>\n",
       "      <td>43</td>\n",
       "      <td>44</td>\n",
       "      <td>45</td>\n",
       "      <td>46</td>\n",
       "      <td>47</td>\n",
       "      <td>48</td>\n",
       "      <td>49</td>\n",
       "    </tr>\n",
       "    <tr>\n",
       "      <th>mod</th>\n",
       "      <td>1</td>\n",
       "      <td>2</td>\n",
       "      <td>3</td>\n",
       "      <td>4</td>\n",
       "      <td>5</td>\n",
       "      <td>6</td>\n",
       "      <td>7</td>\n",
       "      <td>8</td>\n",
       "      <td>9</td>\n",
       "      <td>10</td>\n",
       "      <td>...</td>\n",
       "      <td>7</td>\n",
       "      <td>8</td>\n",
       "      <td>9</td>\n",
       "      <td>10</td>\n",
       "      <td>0</td>\n",
       "      <td>1</td>\n",
       "      <td>2</td>\n",
       "      <td>3</td>\n",
       "      <td>4</td>\n",
       "      <td>5</td>\n",
       "    </tr>\n",
       "    <tr>\n",
       "      <th>pow</th>\n",
       "      <td>1</td>\n",
       "      <td>2048</td>\n",
       "      <td>177147</td>\n",
       "      <td>4194304</td>\n",
       "      <td>48828125</td>\n",
       "      <td>362797056</td>\n",
       "      <td>1977326743</td>\n",
       "      <td>8589934592</td>\n",
       "      <td>31381059609</td>\n",
       "      <td>100000000000</td>\n",
       "      <td>...</td>\n",
       "      <td>419430400000000000</td>\n",
       "      <td>550329031716248441</td>\n",
       "      <td>717368321110468608</td>\n",
       "      <td>929293739471222707</td>\n",
       "      <td>1196683881290399744</td>\n",
       "      <td>1532278301220703125</td>\n",
       "      <td>1951354384207722496</td>\n",
       "      <td>2472159215084012303</td>\n",
       "      <td>3116402981210161152</td>\n",
       "      <td>3909821048582988049</td>\n",
       "    </tr>\n",
       "    <tr>\n",
       "      <th>pow_mod</th>\n",
       "      <td>1</td>\n",
       "      <td>2</td>\n",
       "      <td>3</td>\n",
       "      <td>4</td>\n",
       "      <td>5</td>\n",
       "      <td>6</td>\n",
       "      <td>7</td>\n",
       "      <td>8</td>\n",
       "      <td>9</td>\n",
       "      <td>10</td>\n",
       "      <td>...</td>\n",
       "      <td>7</td>\n",
       "      <td>8</td>\n",
       "      <td>9</td>\n",
       "      <td>10</td>\n",
       "      <td>0</td>\n",
       "      <td>1</td>\n",
       "      <td>2</td>\n",
       "      <td>3</td>\n",
       "      <td>4</td>\n",
       "      <td>5</td>\n",
       "    </tr>\n",
       "  </tbody>\n",
       "</table>\n",
       "<p>4 rows × 49 columns</p>\n",
       "</div>"
      ],
      "text/plain": [
       "         0     1       2        3         4          5           6   \\\n",
       "a         1     2       3        4         5          6           7   \n",
       "mod       1     2       3        4         5          6           7   \n",
       "pow       1  2048  177147  4194304  48828125  362797056  1977326743   \n",
       "pow_mod   1     2       3        4         5          6           7   \n",
       "\n",
       "                 7            8             9   ...                  39  \\\n",
       "a                 8            9            10  ...                  40   \n",
       "mod               8            9            10  ...                   7   \n",
       "pow      8589934592  31381059609  100000000000  ...  419430400000000000   \n",
       "pow_mod           8            9            10  ...                   7   \n",
       "\n",
       "                         40                  41                  42  \\\n",
       "a                        41                  42                  43   \n",
       "mod                       8                   9                  10   \n",
       "pow      550329031716248441  717368321110468608  929293739471222707   \n",
       "pow_mod                   8                   9                  10   \n",
       "\n",
       "                          43                   44                   45  \\\n",
       "a                         44                   45                   46   \n",
       "mod                        0                    1                    2   \n",
       "pow      1196683881290399744  1532278301220703125  1951354384207722496   \n",
       "pow_mod                    0                    1                    2   \n",
       "\n",
       "                          46                   47                   48  \n",
       "a                         47                   48                   49  \n",
       "mod                        3                    4                    5  \n",
       "pow      2472159215084012303  3116402981210161152  3909821048582988049  \n",
       "pow_mod                    3                    4                    5  \n",
       "\n",
       "[4 rows x 49 columns]"
      ]
     },
     "execution_count": 4,
     "metadata": {},
     "output_type": "execute_result"
    }
   ],
   "source": [
    "flt_df.transpose()"
   ]
  },
  {
   "cell_type": "code",
   "execution_count": 5,
   "id": "outer-antarctica",
   "metadata": {
    "tags": []
   },
   "outputs": [
    {
     "data": {
      "text/plain": [
       "True"
      ]
     },
     "execution_count": 5,
     "metadata": {},
     "output_type": "execute_result"
    }
   ],
   "source": [
    "flt_df[\"mod\"].equals(flt_df[\"pow_mod\"])"
   ]
  },
  {
   "cell_type": "code",
   "execution_count": 6,
   "id": "graphic-neighborhood",
   "metadata": {
    "tags": []
   },
   "outputs": [
    {
     "data": {
      "text/plain": [
       "<AxesSubplot:>"
      ]
     },
     "execution_count": 6,
     "metadata": {},
     "output_type": "execute_result"
    },
    {
     "data": {
      "image/png": "[encoded data removed]",
      "text/plain": [
       "<Figure size 720x432 with 1 Axes>"
      ]
     },
     "metadata": {
      "needs_background": "light"
     },
     "output_type": "display_data"
    }
   ],
   "source": [
    "# Graph shows that pow_mod value oscillate the same way like mod value\n",
    "\n",
    "flt_df[[\"mod\", \"pow_mod\"]].plot(figsize=(10,6))"
   ]
  },
  {
   "cell_type": "markdown",
   "id": "affecting-dispute",
   "metadata": {},
   "source": [
    "## Equivalent statement"
   ]
  },
  {
   "cell_type": "markdown",
   "id": "becoming-spank",
   "metadata": {},
   "source": [
    "If p is prime => for any integer a, a mod p != 0: a^(p-1) = 1 mod p."
   ]
  },
  {
   "cell_type": "code",
   "execution_count": 7,
   "id": "small-headline",
   "metadata": {},
   "outputs": [],
   "source": [
    "a = np.arange(1,25)\n",
    "p = 7\n",
    "flt2_df = pd.DataFrame(a, columns=[\"a\"])"
   ]
  },
  {
   "cell_type": "code",
   "execution_count": 8,
   "id": "smoking-decimal",
   "metadata": {},
   "outputs": [],
   "source": [
    "flt2_df[\"not_divisor\"] = flt2_df[\"a\"] % p != 0\n",
    "flt2_df[\"pow_decr\"] = pow(flt2_df[\"a\"], p-1)\n",
    "flt2_df[\"pow_decr_mod\"] = flt2_df[\"pow_decr\"] % p"
   ]
  },
  {
   "cell_type": "code",
   "execution_count": 9,
   "id": "monthly-profile",
   "metadata": {},
   "outputs": [
    {
     "data": {
      "text/html": [
       "<div>\n",
       "<style scoped>\n",
       "    .dataframe tbody tr th:only-of-type {\n",
       "        vertical-align: middle;\n",
       "    }\n",
       "\n",
       "    .dataframe tbody tr th {\n",
       "        vertical-align: top;\n",
       "    }\n",
       "\n",
       "    .dataframe thead th {\n",
       "        text-align: right;\n",
       "    }\n",
       "</style>\n",
       "<table border=\"1\" class=\"dataframe\">\n",
       "  <thead>\n",
       "    <tr style=\"text-align: right;\">\n",
       "      <th></th>\n",
       "      <th>0</th>\n",
       "      <th>1</th>\n",
       "      <th>2</th>\n",
       "      <th>3</th>\n",
       "      <th>4</th>\n",
       "      <th>5</th>\n",
       "      <th>6</th>\n",
       "      <th>7</th>\n",
       "      <th>8</th>\n",
       "      <th>9</th>\n",
       "      <th>...</th>\n",
       "      <th>14</th>\n",
       "      <th>15</th>\n",
       "      <th>16</th>\n",
       "      <th>17</th>\n",
       "      <th>18</th>\n",
       "      <th>19</th>\n",
       "      <th>20</th>\n",
       "      <th>21</th>\n",
       "      <th>22</th>\n",
       "      <th>23</th>\n",
       "    </tr>\n",
       "  </thead>\n",
       "  <tbody>\n",
       "    <tr>\n",
       "      <th>a</th>\n",
       "      <td>1</td>\n",
       "      <td>2</td>\n",
       "      <td>3</td>\n",
       "      <td>4</td>\n",
       "      <td>5</td>\n",
       "      <td>6</td>\n",
       "      <td>7</td>\n",
       "      <td>8</td>\n",
       "      <td>9</td>\n",
       "      <td>10</td>\n",
       "      <td>...</td>\n",
       "      <td>15</td>\n",
       "      <td>16</td>\n",
       "      <td>17</td>\n",
       "      <td>18</td>\n",
       "      <td>19</td>\n",
       "      <td>20</td>\n",
       "      <td>21</td>\n",
       "      <td>22</td>\n",
       "      <td>23</td>\n",
       "      <td>24</td>\n",
       "    </tr>\n",
       "    <tr>\n",
       "      <th>not_divisor</th>\n",
       "      <td>True</td>\n",
       "      <td>True</td>\n",
       "      <td>True</td>\n",
       "      <td>True</td>\n",
       "      <td>True</td>\n",
       "      <td>True</td>\n",
       "      <td>False</td>\n",
       "      <td>True</td>\n",
       "      <td>True</td>\n",
       "      <td>True</td>\n",
       "      <td>...</td>\n",
       "      <td>True</td>\n",
       "      <td>True</td>\n",
       "      <td>True</td>\n",
       "      <td>True</td>\n",
       "      <td>True</td>\n",
       "      <td>True</td>\n",
       "      <td>False</td>\n",
       "      <td>True</td>\n",
       "      <td>True</td>\n",
       "      <td>True</td>\n",
       "    </tr>\n",
       "    <tr>\n",
       "      <th>pow_decr</th>\n",
       "      <td>1</td>\n",
       "      <td>64</td>\n",
       "      <td>729</td>\n",
       "      <td>4096</td>\n",
       "      <td>15625</td>\n",
       "      <td>46656</td>\n",
       "      <td>117649</td>\n",
       "      <td>262144</td>\n",
       "      <td>531441</td>\n",
       "      <td>1000000</td>\n",
       "      <td>...</td>\n",
       "      <td>11390625</td>\n",
       "      <td>16777216</td>\n",
       "      <td>24137569</td>\n",
       "      <td>34012224</td>\n",
       "      <td>47045881</td>\n",
       "      <td>64000000</td>\n",
       "      <td>85766121</td>\n",
       "      <td>113379904</td>\n",
       "      <td>148035889</td>\n",
       "      <td>191102976</td>\n",
       "    </tr>\n",
       "    <tr>\n",
       "      <th>pow_decr_mod</th>\n",
       "      <td>1</td>\n",
       "      <td>1</td>\n",
       "      <td>1</td>\n",
       "      <td>1</td>\n",
       "      <td>1</td>\n",
       "      <td>1</td>\n",
       "      <td>0</td>\n",
       "      <td>1</td>\n",
       "      <td>1</td>\n",
       "      <td>1</td>\n",
       "      <td>...</td>\n",
       "      <td>1</td>\n",
       "      <td>1</td>\n",
       "      <td>1</td>\n",
       "      <td>1</td>\n",
       "      <td>1</td>\n",
       "      <td>1</td>\n",
       "      <td>0</td>\n",
       "      <td>1</td>\n",
       "      <td>1</td>\n",
       "      <td>1</td>\n",
       "    </tr>\n",
       "  </tbody>\n",
       "</table>\n",
       "<p>4 rows × 24 columns</p>\n",
       "</div>"
      ],
      "text/plain": [
       "                0     1     2     3      4      5       6       7       8   \\\n",
       "a                1     2     3     4      5      6       7       8       9   \n",
       "not_divisor   True  True  True  True   True   True   False    True    True   \n",
       "pow_decr         1    64   729  4096  15625  46656  117649  262144  531441   \n",
       "pow_decr_mod     1     1     1     1      1      1       0       1       1   \n",
       "\n",
       "                   9   ...        14        15        16        17        18  \\\n",
       "a                  10  ...        15        16        17        18        19   \n",
       "not_divisor      True  ...      True      True      True      True      True   \n",
       "pow_decr      1000000  ...  11390625  16777216  24137569  34012224  47045881   \n",
       "pow_decr_mod        1  ...         1         1         1         1         1   \n",
       "\n",
       "                    19        20         21         22         23  \n",
       "a                   20        21         22         23         24  \n",
       "not_divisor       True     False       True       True       True  \n",
       "pow_decr      64000000  85766121  113379904  148035889  191102976  \n",
       "pow_decr_mod         1         0          1          1          1  \n",
       "\n",
       "[4 rows x 24 columns]"
      ]
     },
     "execution_count": 9,
     "metadata": {},
     "output_type": "execute_result"
    }
   ],
   "source": [
    "flt2_df.transpose()"
   ]
  },
  {
   "cell_type": "code",
   "execution_count": 10,
   "id": "conceptual-belarus",
   "metadata": {},
   "outputs": [
    {
     "data": {
      "text/plain": [
       "True"
      ]
     },
     "execution_count": 10,
     "metadata": {},
     "output_type": "execute_result"
    }
   ],
   "source": [
    "bools = {1: True, 0: False}\n",
    "flt2_df[\"pow_decr_mod\"].replace(bools).equals(flt2_df[\"not_divisor\"])"
   ]
  },
  {
   "cell_type": "code",
   "execution_count": 11,
   "id": "characteristic-impact",
   "metadata": {},
   "outputs": [
    {
     "data": {
      "text/plain": [
       "<AxesSubplot:>"
      ]
     },
     "execution_count": 11,
     "metadata": {},
     "output_type": "execute_result"
    },
    {
     "data": {
      "image/png": "[encoded data removed]",
      "text/plain": [
       "<Figure size 720x432 with 1 Axes>"
      ]
     },
     "metadata": {
      "needs_background": "light"
     },
     "output_type": "display_data"
    }
   ],
   "source": [
    "# Graph shows that pow_decr_mod equals 1 if a divisible by p.\n",
    "# And pow_decr_mod equals 0 if a not divisible by p.\n",
    "\n",
    "flt2_df[[\"pow_decr_mod\"]].plot(figsize=(10,6))"
   ]
  },
  {
   "cell_type": "markdown",
   "id": "finnish-ceiling",
   "metadata": {},
   "source": [
    "# Euler function"
   ]
  },
  {
   "cell_type": "markdown",
   "id": "premier-attraction",
   "metadata": {},
   "source": [
    "Euler function F(n) shows amount of numbers co-prime with n."
   ]
  },
  {
   "cell_type": "code",
   "execution_count": 12,
   "id": "trying-norway",
   "metadata": {},
   "outputs": [],
   "source": [
    "def coprime(x, y) -> bool:\n",
    "    imin = min(x, y)\n",
    "    imax = max(x, y)\n",
    "    if imin == 1:\n",
    "        return True\n",
    "    for i in range(2, imin+1):\n",
    "        if imin % i != 0:\n",
    "            continue\n",
    "        if imax % i == 0:\n",
    "            return False\n",
    "    return True"
   ]
  },
  {
   "cell_type": "code",
   "execution_count": 13,
   "id": "billion-sheffield",
   "metadata": {},
   "outputs": [],
   "source": [
    "def euler(n) -> int:\n",
    "    res = 1\n",
    "    for i in range(2, n):\n",
    "        if coprime(i, n):\n",
    "            res += 1\n",
    "    return res"
   ]
  },
  {
   "cell_type": "code",
   "execution_count": 14,
   "id": "unsigned-synthetic",
   "metadata": {},
   "outputs": [],
   "source": [
    "n = np.arange(1,1000)\n",
    "euler_df = pd.DataFrame(n, columns=[\"n\"])"
   ]
  },
  {
   "cell_type": "code",
   "execution_count": 15,
   "id": "parallel-alias",
   "metadata": {
    "tags": []
   },
   "outputs": [],
   "source": [
    "euler_df[\"euler\"] = euler_df[\"n\"].apply(euler)"
   ]
  },
  {
   "cell_type": "code",
   "execution_count": 16,
   "id": "horizontal-berlin",
   "metadata": {},
   "outputs": [
    {
     "data": {
      "text/html": [
       "<div>\n",
       "<style scoped>\n",
       "    .dataframe tbody tr th:only-of-type {\n",
       "        vertical-align: middle;\n",
       "    }\n",
       "\n",
       "    .dataframe tbody tr th {\n",
       "        vertical-align: top;\n",
       "    }\n",
       "\n",
       "    .dataframe thead th {\n",
       "        text-align: right;\n",
       "    }\n",
       "</style>\n",
       "<table border=\"1\" class=\"dataframe\">\n",
       "  <thead>\n",
       "    <tr style=\"text-align: right;\">\n",
       "      <th></th>\n",
       "      <th>0</th>\n",
       "      <th>1</th>\n",
       "      <th>2</th>\n",
       "      <th>3</th>\n",
       "      <th>4</th>\n",
       "      <th>5</th>\n",
       "      <th>6</th>\n",
       "      <th>7</th>\n",
       "      <th>8</th>\n",
       "      <th>9</th>\n",
       "      <th>...</th>\n",
       "      <th>989</th>\n",
       "      <th>990</th>\n",
       "      <th>991</th>\n",
       "      <th>992</th>\n",
       "      <th>993</th>\n",
       "      <th>994</th>\n",
       "      <th>995</th>\n",
       "      <th>996</th>\n",
       "      <th>997</th>\n",
       "      <th>998</th>\n",
       "    </tr>\n",
       "  </thead>\n",
       "  <tbody>\n",
       "    <tr>\n",
       "      <th>n</th>\n",
       "      <td>1</td>\n",
       "      <td>2</td>\n",
       "      <td>3</td>\n",
       "      <td>4</td>\n",
       "      <td>5</td>\n",
       "      <td>6</td>\n",
       "      <td>7</td>\n",
       "      <td>8</td>\n",
       "      <td>9</td>\n",
       "      <td>10</td>\n",
       "      <td>...</td>\n",
       "      <td>990</td>\n",
       "      <td>991</td>\n",
       "      <td>992</td>\n",
       "      <td>993</td>\n",
       "      <td>994</td>\n",
       "      <td>995</td>\n",
       "      <td>996</td>\n",
       "      <td>997</td>\n",
       "      <td>998</td>\n",
       "      <td>999</td>\n",
       "    </tr>\n",
       "    <tr>\n",
       "      <th>euler</th>\n",
       "      <td>1</td>\n",
       "      <td>1</td>\n",
       "      <td>2</td>\n",
       "      <td>2</td>\n",
       "      <td>4</td>\n",
       "      <td>2</td>\n",
       "      <td>6</td>\n",
       "      <td>4</td>\n",
       "      <td>6</td>\n",
       "      <td>4</td>\n",
       "      <td>...</td>\n",
       "      <td>240</td>\n",
       "      <td>990</td>\n",
       "      <td>480</td>\n",
       "      <td>660</td>\n",
       "      <td>420</td>\n",
       "      <td>792</td>\n",
       "      <td>328</td>\n",
       "      <td>996</td>\n",
       "      <td>498</td>\n",
       "      <td>648</td>\n",
       "    </tr>\n",
       "  </tbody>\n",
       "</table>\n",
       "<p>2 rows × 999 columns</p>\n",
       "</div>"
      ],
      "text/plain": [
       "       0    1    2    3    4    5    6    7    8    9    ...  989  990  991  \\\n",
       "n        1    2    3    4    5    6    7    8    9   10  ...  990  991  992   \n",
       "euler    1    1    2    2    4    2    6    4    6    4  ...  240  990  480   \n",
       "\n",
       "       992  993  994  995  996  997  998  \n",
       "n      993  994  995  996  997  998  999  \n",
       "euler  660  420  792  328  996  498  648  \n",
       "\n",
       "[2 rows x 999 columns]"
      ]
     },
     "execution_count": 16,
     "metadata": {},
     "output_type": "execute_result"
    }
   ],
   "source": [
    "euler_df.transpose()"
   ]
  },
  {
   "cell_type": "code",
   "execution_count": 17,
   "id": "portuguese-moscow",
   "metadata": {},
   "outputs": [
    {
     "data": {
      "text/plain": [
       "<AxesSubplot:xlabel='n', ylabel='euler'>"
      ]
     },
     "execution_count": 17,
     "metadata": {},
     "output_type": "execute_result"
    },
    {
     "data": {
      "image/png": "[encoded data removed]",
      "text/plain": [
       "<Figure size 720x432 with 1 Axes>"
      ]
     },
     "metadata": {
      "needs_background": "light"
     },
     "output_type": "display_data"
    }
   ],
   "source": [
    "euler_df.plot.scatter(x=\"n\", y=\"euler\", s=1, figsize=(10,6))"
   ]
  },
  {
   "cell_type": "code",
   "execution_count": null,
   "id": "average-burton",
   "metadata": {},
   "outputs": [],
   "source": []
  }
 ],
 "metadata": {
  "kernelspec": {
   "display_name": "Python 3",
   "language": "python",
   "name": "python3"
  },
  "language_info": {
   "codemirror_mode": {
    "name": "ipython",
    "version": 3
   },
   "file_extension": ".py",
   "mimetype": "text/x-python",
   "name": "python",
   "nbconvert_exporter": "python",
   "pygments_lexer": "ipython3",
   "version": "3.8.8"
  }
 },
 "nbformat": 4,
 "nbformat_minor": 5
}
