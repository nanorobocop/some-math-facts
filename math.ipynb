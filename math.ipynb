{
 "cells": [
  {
   "cell_type": "code",
   "execution_count": 142,
   "id": "noticed-former",
   "metadata": {},
   "outputs": [],
   "source": [
    "import numpy as np\n",
    "import pandas as pd"
   ]
  },
  {
   "cell_type": "markdown",
   "id": "hearing-default",
   "metadata": {},
   "source": [
    "# Fermat's Little Theorem"
   ]
  },
  {
   "cell_type": "markdown",
   "id": "expressed-greek",
   "metadata": {},
   "source": [
    "## Main statement"
   ]
  },
  {
   "cell_type": "markdown",
   "id": "regular-variation",
   "metadata": {},
   "source": [
    "If p is prime => for any integer a: a^p = a mod p."
   ]
  },
  {
   "cell_type": "code",
   "execution_count": 143,
   "id": "alive-friday",
   "metadata": {},
   "outputs": [],
   "source": [
    "a = np.arange(1,25)\n",
    "p = 3\n",
    "df = pd.DataFrame(a, columns=[\"a\"])"
   ]
  },
  {
   "cell_type": "code",
   "execution_count": 144,
   "id": "vulnerable-military",
   "metadata": {},
   "outputs": [],
   "source": [
    "df[\"mod\"] = df[\"a\"] % 3\n",
    "df[\"pow\"] = pow(df[\"a\"], 3)\n",
    "df[\"pow_mod\"] = df[\"pow\"] % 3"
   ]
  },
  {
   "cell_type": "code",
   "execution_count": 145,
   "id": "neither-particle",
   "metadata": {
    "scrolled": true
   },
   "outputs": [
    {
     "data": {
      "text/html": [
       "<div>\n",
       "<style scoped>\n",
       "    .dataframe tbody tr th:only-of-type {\n",
       "        vertical-align: middle;\n",
       "    }\n",
       "\n",
       "    .dataframe tbody tr th {\n",
       "        vertical-align: top;\n",
       "    }\n",
       "\n",
       "    .dataframe thead th {\n",
       "        text-align: right;\n",
       "    }\n",
       "</style>\n",
       "<table border=\"1\" class=\"dataframe\">\n",
       "  <thead>\n",
       "    <tr style=\"text-align: right;\">\n",
       "      <th></th>\n",
       "      <th>0</th>\n",
       "      <th>1</th>\n",
       "      <th>2</th>\n",
       "      <th>3</th>\n",
       "      <th>4</th>\n",
       "      <th>5</th>\n",
       "      <th>6</th>\n",
       "      <th>7</th>\n",
       "      <th>8</th>\n",
       "      <th>9</th>\n",
       "      <th>...</th>\n",
       "      <th>14</th>\n",
       "      <th>15</th>\n",
       "      <th>16</th>\n",
       "      <th>17</th>\n",
       "      <th>18</th>\n",
       "      <th>19</th>\n",
       "      <th>20</th>\n",
       "      <th>21</th>\n",
       "      <th>22</th>\n",
       "      <th>23</th>\n",
       "    </tr>\n",
       "  </thead>\n",
       "  <tbody>\n",
       "    <tr>\n",
       "      <th>a</th>\n",
       "      <td>1</td>\n",
       "      <td>2</td>\n",
       "      <td>3</td>\n",
       "      <td>4</td>\n",
       "      <td>5</td>\n",
       "      <td>6</td>\n",
       "      <td>7</td>\n",
       "      <td>8</td>\n",
       "      <td>9</td>\n",
       "      <td>10</td>\n",
       "      <td>...</td>\n",
       "      <td>15</td>\n",
       "      <td>16</td>\n",
       "      <td>17</td>\n",
       "      <td>18</td>\n",
       "      <td>19</td>\n",
       "      <td>20</td>\n",
       "      <td>21</td>\n",
       "      <td>22</td>\n",
       "      <td>23</td>\n",
       "      <td>24</td>\n",
       "    </tr>\n",
       "    <tr>\n",
       "      <th>mod</th>\n",
       "      <td>1</td>\n",
       "      <td>2</td>\n",
       "      <td>0</td>\n",
       "      <td>1</td>\n",
       "      <td>2</td>\n",
       "      <td>0</td>\n",
       "      <td>1</td>\n",
       "      <td>2</td>\n",
       "      <td>0</td>\n",
       "      <td>1</td>\n",
       "      <td>...</td>\n",
       "      <td>0</td>\n",
       "      <td>1</td>\n",
       "      <td>2</td>\n",
       "      <td>0</td>\n",
       "      <td>1</td>\n",
       "      <td>2</td>\n",
       "      <td>0</td>\n",
       "      <td>1</td>\n",
       "      <td>2</td>\n",
       "      <td>0</td>\n",
       "    </tr>\n",
       "    <tr>\n",
       "      <th>pow</th>\n",
       "      <td>1</td>\n",
       "      <td>8</td>\n",
       "      <td>27</td>\n",
       "      <td>64</td>\n",
       "      <td>125</td>\n",
       "      <td>216</td>\n",
       "      <td>343</td>\n",
       "      <td>512</td>\n",
       "      <td>729</td>\n",
       "      <td>1000</td>\n",
       "      <td>...</td>\n",
       "      <td>3375</td>\n",
       "      <td>4096</td>\n",
       "      <td>4913</td>\n",
       "      <td>5832</td>\n",
       "      <td>6859</td>\n",
       "      <td>8000</td>\n",
       "      <td>9261</td>\n",
       "      <td>10648</td>\n",
       "      <td>12167</td>\n",
       "      <td>13824</td>\n",
       "    </tr>\n",
       "    <tr>\n",
       "      <th>pow_mod</th>\n",
       "      <td>1</td>\n",
       "      <td>2</td>\n",
       "      <td>0</td>\n",
       "      <td>1</td>\n",
       "      <td>2</td>\n",
       "      <td>0</td>\n",
       "      <td>1</td>\n",
       "      <td>2</td>\n",
       "      <td>0</td>\n",
       "      <td>1</td>\n",
       "      <td>...</td>\n",
       "      <td>0</td>\n",
       "      <td>1</td>\n",
       "      <td>2</td>\n",
       "      <td>0</td>\n",
       "      <td>1</td>\n",
       "      <td>2</td>\n",
       "      <td>0</td>\n",
       "      <td>1</td>\n",
       "      <td>2</td>\n",
       "      <td>0</td>\n",
       "    </tr>\n",
       "  </tbody>\n",
       "</table>\n",
       "<p>4 rows × 24 columns</p>\n",
       "</div>"
      ],
      "text/plain": [
       "         0   1   2   3    4    5    6    7    8     9   ...    14    15    16  \\\n",
       "a         1   2   3   4    5    6    7    8    9    10  ...    15    16    17   \n",
       "mod       1   2   0   1    2    0    1    2    0     1  ...     0     1     2   \n",
       "pow       1   8  27  64  125  216  343  512  729  1000  ...  3375  4096  4913   \n",
       "pow_mod   1   2   0   1    2    0    1    2    0     1  ...     0     1     2   \n",
       "\n",
       "           17    18    19    20     21     22     23  \n",
       "a          18    19    20    21     22     23     24  \n",
       "mod         0     1     2     0      1      2      0  \n",
       "pow      5832  6859  8000  9261  10648  12167  13824  \n",
       "pow_mod     0     1     2     0      1      2      0  \n",
       "\n",
       "[4 rows x 24 columns]"
      ]
     },
     "execution_count": 145,
     "metadata": {},
     "output_type": "execute_result"
    }
   ],
   "source": [
    "df.transpose()"
   ]
  },
  {
   "cell_type": "code",
   "execution_count": 146,
   "id": "ethical-insight",
   "metadata": {
    "scrolled": true
   },
   "outputs": [
    {
     "data": {
      "text/plain": [
       "True"
      ]
     },
     "execution_count": 146,
     "metadata": {},
     "output_type": "execute_result"
    }
   ],
   "source": [
    "df[\"mod\"].equals(df[\"pow_mod\"])"
   ]
  },
  {
   "cell_type": "code",
   "execution_count": 147,
   "id": "outside-header",
   "metadata": {},
   "outputs": [
    {
     "data": {
      "text/plain": [
       "<AxesSubplot:>"
      ]
     },
     "execution_count": 147,
     "metadata": {},
     "output_type": "execute_result"
    },
    {
     "data": {
      "image/png": "[encoded data removed]",
      "text/plain": [
       "<Figure size 432x288 with 1 Axes>"
      ]
     },
     "metadata": {
      "needs_background": "light"
     },
     "output_type": "display_data"
    }
   ],
   "source": [
    "df[[\"mod\", \"pow_mod\"]].plot()"
   ]
  },
  {
   "cell_type": "markdown",
   "id": "cubic-artwork",
   "metadata": {},
   "source": [
    "## Equivalent statement"
   ]
  },
  {
   "cell_type": "markdown",
   "id": "cardiovascular-mitchell",
   "metadata": {},
   "source": [
    "If p is prime => for any integer a, a mod p != 0: a^(p-1) = 1 mod p."
   ]
  },
  {
   "cell_type": "code",
   "execution_count": 148,
   "id": "adverse-mongolia",
   "metadata": {},
   "outputs": [],
   "source": [
    "a = np.arange(1,25)\n",
    "p = 3\n",
    "df = pd.DataFrame(a, columns=[\"a\"])"
   ]
  },
  {
   "cell_type": "code",
   "execution_count": 149,
   "id": "empty-membrane",
   "metadata": {},
   "outputs": [],
   "source": [
    "df[\"not_divisor\"] = df[\"a\"] % 3 != 0\n",
    "df[\"pow_decr\"] = pow(df[\"a\"], 3-1)\n",
    "df[\"pow_decr_mod\"] = df[\"pow_decr\"] % 3"
   ]
  },
  {
   "cell_type": "code",
   "execution_count": 150,
   "id": "resident-aerospace",
   "metadata": {},
   "outputs": [
    {
     "data": {
      "text/html": [
       "<div>\n",
       "<style scoped>\n",
       "    .dataframe tbody tr th:only-of-type {\n",
       "        vertical-align: middle;\n",
       "    }\n",
       "\n",
       "    .dataframe tbody tr th {\n",
       "        vertical-align: top;\n",
       "    }\n",
       "\n",
       "    .dataframe thead th {\n",
       "        text-align: right;\n",
       "    }\n",
       "</style>\n",
       "<table border=\"1\" class=\"dataframe\">\n",
       "  <thead>\n",
       "    <tr style=\"text-align: right;\">\n",
       "      <th></th>\n",
       "      <th>0</th>\n",
       "      <th>1</th>\n",
       "      <th>2</th>\n",
       "      <th>3</th>\n",
       "      <th>4</th>\n",
       "      <th>5</th>\n",
       "      <th>6</th>\n",
       "      <th>7</th>\n",
       "      <th>8</th>\n",
       "      <th>9</th>\n",
       "      <th>...</th>\n",
       "      <th>14</th>\n",
       "      <th>15</th>\n",
       "      <th>16</th>\n",
       "      <th>17</th>\n",
       "      <th>18</th>\n",
       "      <th>19</th>\n",
       "      <th>20</th>\n",
       "      <th>21</th>\n",
       "      <th>22</th>\n",
       "      <th>23</th>\n",
       "    </tr>\n",
       "  </thead>\n",
       "  <tbody>\n",
       "    <tr>\n",
       "      <th>a</th>\n",
       "      <td>1</td>\n",
       "      <td>2</td>\n",
       "      <td>3</td>\n",
       "      <td>4</td>\n",
       "      <td>5</td>\n",
       "      <td>6</td>\n",
       "      <td>7</td>\n",
       "      <td>8</td>\n",
       "      <td>9</td>\n",
       "      <td>10</td>\n",
       "      <td>...</td>\n",
       "      <td>15</td>\n",
       "      <td>16</td>\n",
       "      <td>17</td>\n",
       "      <td>18</td>\n",
       "      <td>19</td>\n",
       "      <td>20</td>\n",
       "      <td>21</td>\n",
       "      <td>22</td>\n",
       "      <td>23</td>\n",
       "      <td>24</td>\n",
       "    </tr>\n",
       "    <tr>\n",
       "      <th>not_divisor</th>\n",
       "      <td>True</td>\n",
       "      <td>True</td>\n",
       "      <td>False</td>\n",
       "      <td>True</td>\n",
       "      <td>True</td>\n",
       "      <td>False</td>\n",
       "      <td>True</td>\n",
       "      <td>True</td>\n",
       "      <td>False</td>\n",
       "      <td>True</td>\n",
       "      <td>...</td>\n",
       "      <td>False</td>\n",
       "      <td>True</td>\n",
       "      <td>True</td>\n",
       "      <td>False</td>\n",
       "      <td>True</td>\n",
       "      <td>True</td>\n",
       "      <td>False</td>\n",
       "      <td>True</td>\n",
       "      <td>True</td>\n",
       "      <td>False</td>\n",
       "    </tr>\n",
       "    <tr>\n",
       "      <th>pow_decr</th>\n",
       "      <td>1</td>\n",
       "      <td>4</td>\n",
       "      <td>9</td>\n",
       "      <td>16</td>\n",
       "      <td>25</td>\n",
       "      <td>36</td>\n",
       "      <td>49</td>\n",
       "      <td>64</td>\n",
       "      <td>81</td>\n",
       "      <td>100</td>\n",
       "      <td>...</td>\n",
       "      <td>225</td>\n",
       "      <td>256</td>\n",
       "      <td>289</td>\n",
       "      <td>324</td>\n",
       "      <td>361</td>\n",
       "      <td>400</td>\n",
       "      <td>441</td>\n",
       "      <td>484</td>\n",
       "      <td>529</td>\n",
       "      <td>576</td>\n",
       "    </tr>\n",
       "    <tr>\n",
       "      <th>pow_decr_mod</th>\n",
       "      <td>1</td>\n",
       "      <td>1</td>\n",
       "      <td>0</td>\n",
       "      <td>1</td>\n",
       "      <td>1</td>\n",
       "      <td>0</td>\n",
       "      <td>1</td>\n",
       "      <td>1</td>\n",
       "      <td>0</td>\n",
       "      <td>1</td>\n",
       "      <td>...</td>\n",
       "      <td>0</td>\n",
       "      <td>1</td>\n",
       "      <td>1</td>\n",
       "      <td>0</td>\n",
       "      <td>1</td>\n",
       "      <td>1</td>\n",
       "      <td>0</td>\n",
       "      <td>1</td>\n",
       "      <td>1</td>\n",
       "      <td>0</td>\n",
       "    </tr>\n",
       "  </tbody>\n",
       "</table>\n",
       "<p>4 rows × 24 columns</p>\n",
       "</div>"
      ],
      "text/plain": [
       "                0     1      2     3     4      5     6     7      8     9   \\\n",
       "a                1     2      3     4     5      6     7     8      9    10   \n",
       "not_divisor   True  True  False  True  True  False  True  True  False  True   \n",
       "pow_decr         1     4      9    16    25     36    49    64     81   100   \n",
       "pow_decr_mod     1     1      0     1     1      0     1     1      0     1   \n",
       "\n",
       "              ...     14    15    16     17    18    19     20    21    22  \\\n",
       "a             ...     15    16    17     18    19    20     21    22    23   \n",
       "not_divisor   ...  False  True  True  False  True  True  False  True  True   \n",
       "pow_decr      ...    225   256   289    324   361   400    441   484   529   \n",
       "pow_decr_mod  ...      0     1     1      0     1     1      0     1     1   \n",
       "\n",
       "                 23  \n",
       "a                24  \n",
       "not_divisor   False  \n",
       "pow_decr        576  \n",
       "pow_decr_mod      0  \n",
       "\n",
       "[4 rows x 24 columns]"
      ]
     },
     "execution_count": 150,
     "metadata": {},
     "output_type": "execute_result"
    }
   ],
   "source": [
    "df.transpose()"
   ]
  },
  {
   "cell_type": "code",
   "execution_count": 151,
   "id": "continuous-mechanics",
   "metadata": {},
   "outputs": [
    {
     "data": {
      "text/plain": [
       "True"
      ]
     },
     "execution_count": 151,
     "metadata": {},
     "output_type": "execute_result"
    }
   ],
   "source": [
    "bools = {1: True, 0: False}\n",
    "df[\"pow_decr_mod\"].replace(bools).equals(df[\"not_divisor\"])"
   ]
  },
  {
   "cell_type": "code",
   "execution_count": 152,
   "id": "general-topic",
   "metadata": {},
   "outputs": [
    {
     "data": {
      "text/plain": [
       "<AxesSubplot:>"
      ]
     },
     "execution_count": 152,
     "metadata": {},
     "output_type": "execute_result"
    },
    {
     "data": {
      "image/png": "[encoded data removed]",
      "text/plain": [
       "<Figure size 432x288 with 1 Axes>"
      ]
     },
     "metadata": {
      "needs_background": "light"
     },
     "output_type": "display_data"
    }
   ],
   "source": [
    "df[[\"pow_decr_mod\"]].plot()"
   ]
  },
  {
   "cell_type": "code",
   "execution_count": null,
   "id": "future-battlefield",
   "metadata": {},
   "outputs": [],
   "source": []
  }
 ],
 "metadata": {
  "kernelspec": {
   "display_name": "Python 3",
   "language": "python",
   "name": "python3"
  },
  "language_info": {
   "codemirror_mode": {
    "name": "ipython",
    "version": 3
   },
   "file_extension": ".py",
   "mimetype": "text/x-python",
   "name": "python",
   "nbconvert_exporter": "python",
   "pygments_lexer": "ipython3",
   "version": "3.8.8"
  }
 },
 "nbformat": 4,
 "nbformat_minor": 5
}
